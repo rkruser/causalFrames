{
 "cells": [
  {
   "cell_type": "code",
   "execution_count": 84,
   "metadata": {},
   "outputs": [],
   "source": [
    "import numpy as np\n",
    "import torch\n",
    "import torchvision.datasets as datasets\n",
    "import torch.nn as nn\n",
    "import torch.optim as optim\n",
    "import torch.nn.init as init\n",
    "from torch.utils.data import Dataset, DataLoader\n",
    "from torchvision import transforms, utils\n",
    "from PIL import Image\n",
    "from array2gif import write_gif\n",
    "\n",
    "\n",
    "class MNIST_Video(Dataset):\n",
    "    def __init__(self, root='/scratch1/datasets/mnist', train=True, size=500, nframes=48,\n",
    "                 windowsize=6, noise=0.1):\n",
    "        mnist_dset = datasets.MNIST(root=root, train=train, download=False, transform=transforms.ToTensor())\n",
    "        self.sample = np.random.choice(len(mnist_dset),size,replace=False)\n",
    "        self.dset = torch.stack([mnist_dset[i][0] for i in self.sample])\n",
    "        \n",
    "        # The points that decide the class of each video\n",
    "        self.choicePoints = np.random.choice(nframes, size, replace=True)\n",
    "        self.classes = np.random.choice(2,size,replace=True)\n",
    "        self.nframes = nframes\n",
    "        self.windowsize=windowsize\n",
    "        self.netframes = nframes-windowsize+1\n",
    "        self.noise=noise\n",
    "        #self.background = torch.zeros(1,128,128)\n",
    "        \n",
    "        self.startx = 50\n",
    "        self.inc=2\n",
    "        #self.starty = 0\n",
    "        \n",
    "    def __len__(self):\n",
    "        return len(self.dset)*self.netframes\n",
    "        \n",
    "    def __getitem__(self, index):\n",
    "        digitIndex = index//self.netframes\n",
    "        frameIndex = index%self.netframes\n",
    "        \n",
    "        digit = self.dset[digitIndex]\n",
    "        choicePoint = self.choicePoints[digitIndex]\n",
    "        #choicePoint=24\n",
    "        endPoint = frameIndex+self.windowsize\n",
    "        \n",
    "        yval = self.classes[digitIndex]\n",
    "        if yval == 0:\n",
    "            multiplier=-1\n",
    "        else:\n",
    "            multiplier=1\n",
    "        \n",
    "        outx = self.startx+self.inc*multiplier*np.maximum(\n",
    "            np.arange(frameIndex-choicePoint, frameIndex-choicePoint+self.windowsize),0)\n",
    "        outx = np.minimum(np.maximum(outx,0),100)\n",
    "        outy = self.inc*np.arange(frameIndex,endPoint)\n",
    "        \n",
    "        #import pdb; pdb.set_trace() #Debugging?\n",
    "        pts = torch.zeros(self.windowsize,128,128)\n",
    "        for i in range(self.windowsize):\n",
    "            pts[i,outx[i]:outx[i]+28,outy[i]:outy[i]+28] = digit[0,:,:]\n",
    "        pts = pts + self.noise*torch.randn(pts.size())\n",
    "        pts = (pts-pts.min())/(pts.max()-pts.min())\n",
    "            \n",
    "        return pts, yval\n",
    "       \n",
    "    def changeWindowSize(self,newSize):\n",
    "        self.windowsize = newSize\n",
    "        self.netframes = self.nframes-newSize+1\n",
    "    \n",
    "    def write_gif(self, index, fname):\n",
    "        backupWindowSize = self.windowsize\n",
    "        self.changeWindowSize(48)\n",
    "        pts, _ = self.__getitem__(index)\n",
    "        pts = pts.unsqueeze(1)\n",
    "        pts = torch.cat([pts,pts,pts],1)\n",
    "        pts = pts.numpy()\n",
    "        write_gif(pts*255, fname, fps=24)\n",
    "        self.changeWindowSize(backupWindowSize)\n",
    "        \n",
    "\n",
    "# Inspired by Alexnet\n",
    "class MNIST_Net(nn.Module):\n",
    "    def __init__(self, windowsize, numclasses):\n",
    "        super(MNIST_Net, self).__init__()\n",
    "        self.main = nn.Sequential(\n",
    "            # N x 128 x 128\n",
    "            nn.Conv2d(windowsize, 64, kernel_size=7, stride=2, padding=3),\n",
    "            # 64 x 64 x 64\n",
    "            nn.ReLU(inplace=True),\n",
    "            #nn.MaxPool2d(kernel_size=, stride=),\n",
    "            nn.Conv2d(64, 192, kernel_size=5, stride=2, padding=2),\n",
    "            # 128 x 32 x 32\n",
    "            nn.ReLU(inplace=True),\n",
    "            nn.Conv2d(192,384, kernel_size=3, stride=2, padding=1),\n",
    "            #256 x 16 x 16\n",
    "            nn.ReLU(inplace=True),\n",
    "            nn.Conv2d(384, 256, kernel_size=3, stride=1, padding=0),\n",
    "            # 256 x 14 x 14\n",
    "            nn.ReLU(inplace=True),\n",
    "        #    nn.Conv2d(256, 256, kernel_size=3, stride=1, padding=0),\n",
    "            # 256 x 12 x 12\n",
    "        #    nn.ReLU(inplace=True),\n",
    "            nn.MaxPool2d(kernel_size=3, stride=2)\n",
    "            # 256 x 6 x 6\n",
    "        )\n",
    "        self.classifier = nn.Sequential(\n",
    "            nn.Dropout(),\n",
    "            nn.Linear(256*6*6, 2048),\n",
    "            nn.ReLU(inplace=True),\n",
    "            nn.Dropout(),\n",
    "            nn.Linear(2048,2048),\n",
    "            nn.ReLU(inplace=True),\n",
    "            nn.Linear(2048,numclasses)\n",
    "        )\n",
    "        \n",
    "    def forward(self, x):\n",
    "        x = self.main(x)\n",
    "        x = x.view(x.size(0),-1)\n",
    "        x = self.classifier(x).squeeze(1)\n",
    "        return x\n",
    " \n",
    "\n",
    "def weights_init(m):\n",
    "    classname = m.__class__.__name__\n",
    "    if classname.find('Conv') != -1:\n",
    "        m.weight.data.normal_(0.0, 0.01)\n",
    "    elif classname.find('BatchNorm') != -1:\n",
    "        m.weight.data.normal_(1.0, 0.01)\n",
    "        m.bias.data.fill_(0)\n",
    "    elif classname.find('Linear') != -1:\n",
    "        init.normal(m.weight, std=1e-2)\n",
    "        # init.orthogonal(m.weight)\n",
    "        #init.xavier_uniform(m.weight, gain=1.4)\n",
    "        if m.bias is not None:\n",
    "            init.constant(m.bias, 0.0)\n",
    "\n",
    "class AverageMeter(object):\n",
    "    def __init__(self):\n",
    "        self.count = 0\n",
    "        self.value = 0\n",
    "    def update(self, value, count=1):\n",
    "        self.value += value\n",
    "        self.count += count\n",
    "    def average(self):\n",
    "        return self.value / self.count\n",
    "    def reset(self):\n",
    "        self.count = 0\n",
    "        self.value = 0\n",
    "            \n",
    "def train():\n",
    "    device='cuda:0'\n",
    "    dset = MNIST_Video()\n",
    "    loader = torch.utils.data.DataLoader(dset, batch_size=32, shuffle=True, num_workers=4)\n",
    "    \n",
    "    model = MNIST_Net(6,1)\n",
    "    model.apply(weights_init)\n",
    "    model = model.to(device)\n",
    "    \n",
    "    optimizer = optim.Adam(model.parameters(), lr=0.0002, betas=(0.5,0.999))\n",
    "    lossfunc = nn.BCEWithLogitsLoss()\n",
    "    \n",
    "    accuracyMeter = AverageMeter()\n",
    "    lossMeter = AverageMeter()\n",
    "    model.train()\n",
    "    for epoch in range(10):\n",
    "        print(\"Epoch\", epoch)\n",
    "        accuracyMeter.reset()\n",
    "        lossMeter.reset()\n",
    "        for i, data in enumerate(loader):\n",
    "            # Extract training batches\n",
    "            ims, labels = data\n",
    "            device_labels = labels.float().to(device)\n",
    "            device_ims = ims.to(device)\n",
    "\n",
    "            # Train network\n",
    "            model.zero_grad()\n",
    "            predictions = model(device_ims)\n",
    "            loss = lossfunc(predictions, device_labels)\n",
    "            loss.backward()\n",
    "            optimizer.step()\n",
    "\n",
    "            # Compute statistics\n",
    "            rounded = predictions.round().long()\n",
    "            rounded = rounded.to('cpu')\n",
    "            correct = torch.sum(rounded == labels).item()\n",
    "            batch_size = predictions.size(0)\n",
    "            accuracyMeter.update(correct, batch_size)\n",
    "            lossMeter.update(loss.item())\n",
    "\n",
    "            if i%100 == 0:\n",
    "                accuracy = correct/batch_size\n",
    "                print(\"batch {1}, batch_loss={2}, batch_accuracy={3}\".format(\n",
    "                    epoch,i,loss.item(),accuracy))\n",
    "    \n",
    "    torch.save(model.state_dict(), 'model.pth')"
   ]
  },
  {
   "cell_type": "code",
   "execution_count": 62,
   "metadata": {},
   "outputs": [
    {
     "name": "stdout",
     "output_type": "stream",
     "text": [
      "torch.Size([6, 128, 128]) 1\n",
      "21500\n"
     ]
    }
   ],
   "source": [
    "data = MNIST_Video()\n",
    "x,y =data[0]\n",
    "print(x.size(), y)\n",
    "print(len(data))\n",
    "# data.write_gif(0,'test0.gif')\n",
    "# data.write_gif(1,'test1.gif')\n",
    "# data.write_gif(2,'test2.gif')\n",
    "# data.write_gif(3,'test3.gif')\n",
    "# data.write_gif(499,'test499.gif')"
   ]
  },
  {
   "cell_type": "code",
   "execution_count": 79,
   "metadata": {
    "collapsed": true
   },
   "outputs": [
    {
     "name": "stdout",
     "output_type": "stream",
     "text": [
      "Epoch 0\n"
     ]
    },
    {
     "name": "stderr",
     "output_type": "stream",
     "text": [
      "/scratch0/anaconda3/lib/python3.6/site-packages/ipykernel_launcher.py:130: UserWarning: nn.init.normal is now deprecated in favor of nn.init.normal_.\n",
      "/scratch0/anaconda3/lib/python3.6/site-packages/ipykernel_launcher.py:134: UserWarning: nn.init.constant is now deprecated in favor of nn.init.constant_.\n"
     ]
    },
    {
     "name": "stdout",
     "output_type": "stream",
     "text": [
      "batch 0, batch_loss=0.6931220293045044, batch_accuracy=0.53125\n",
      "batch 100, batch_loss=0.6627119183540344, batch_accuracy=0.4375\n",
      "batch 200, batch_loss=0.6927433013916016, batch_accuracy=0.53125\n",
      "batch 300, batch_loss=0.6917195320129395, batch_accuracy=0.59375\n",
      "batch 400, batch_loss=0.6949752569198608, batch_accuracy=0.4375\n",
      "batch 500, batch_loss=0.6928236484527588, batch_accuracy=0.5\n",
      "batch 600, batch_loss=0.6920758485794067, batch_accuracy=0.4375\n",
      "Epoch 1\n",
      "batch 0, batch_loss=0.6930269002914429, batch_accuracy=0.59375\n",
      "batch 100, batch_loss=0.6687312126159668, batch_accuracy=0.53125\n",
      "batch 200, batch_loss=0.6938523650169373, batch_accuracy=0.4375\n",
      "batch 300, batch_loss=0.6926308870315552, batch_accuracy=0.53125\n",
      "batch 400, batch_loss=0.6976379156112671, batch_accuracy=0.40625\n",
      "batch 500, batch_loss=0.6989464163780212, batch_accuracy=0.4375\n",
      "batch 600, batch_loss=0.6918796896934509, batch_accuracy=0.53125\n",
      "Epoch 2\n",
      "batch 0, batch_loss=0.6943730115890503, batch_accuracy=0.5\n",
      "batch 100, batch_loss=0.6886081695556641, batch_accuracy=0.59375\n",
      "batch 200, batch_loss=0.7064929008483887, batch_accuracy=0.4375\n",
      "batch 300, batch_loss=0.688866138458252, batch_accuracy=0.59375\n",
      "batch 400, batch_loss=0.700018048286438, batch_accuracy=0.40625\n",
      "batch 500, batch_loss=0.6998298168182373, batch_accuracy=0.5\n",
      "batch 600, batch_loss=0.7076011300086975, batch_accuracy=0.34375\n",
      "Epoch 3\n",
      "batch 0, batch_loss=0.6887471675872803, batch_accuracy=0.65625\n",
      "batch 100, batch_loss=0.6965662240982056, batch_accuracy=0.4375\n",
      "batch 200, batch_loss=0.7328590154647827, batch_accuracy=0.59375\n",
      "batch 300, batch_loss=0.696128249168396, batch_accuracy=0.4375\n",
      "batch 400, batch_loss=0.6932919025421143, batch_accuracy=0.5\n",
      "batch 500, batch_loss=0.6993626952171326, batch_accuracy=0.40625\n",
      "batch 600, batch_loss=0.6755262017250061, batch_accuracy=0.78125\n",
      "Epoch 4\n",
      "batch 0, batch_loss=0.6918620467185974, batch_accuracy=0.53125\n",
      "batch 100, batch_loss=0.6996679306030273, batch_accuracy=0.40625\n",
      "batch 200, batch_loss=0.691834568977356, batch_accuracy=0.53125\n",
      "batch 300, batch_loss=0.6935615539550781, batch_accuracy=0.5\n",
      "batch 400, batch_loss=0.6915738582611084, batch_accuracy=0.53125\n",
      "batch 500, batch_loss=0.6900606751441956, batch_accuracy=0.5625\n",
      "batch 600, batch_loss=0.6914314031600952, batch_accuracy=0.53125\n",
      "Epoch 5\n",
      "batch 0, batch_loss=0.6895936727523804, batch_accuracy=0.5625\n",
      "batch 100, batch_loss=0.690920352935791, batch_accuracy=0.53125\n",
      "batch 200, batch_loss=0.6942048668861389, batch_accuracy=0.5\n",
      "batch 300, batch_loss=0.6844515800476074, batch_accuracy=0.625\n",
      "batch 400, batch_loss=0.6955358982086182, batch_accuracy=0.46875\n",
      "batch 500, batch_loss=0.695212721824646, batch_accuracy=0.46875\n",
      "batch 600, batch_loss=0.6976982355117798, batch_accuracy=0.4375\n",
      "Epoch 6\n",
      "batch 0, batch_loss=0.6986757516860962, batch_accuracy=0.4375\n",
      "batch 100, batch_loss=0.695914089679718, batch_accuracy=0.46875\n",
      "batch 200, batch_loss=0.6919912099838257, batch_accuracy=0.53125\n",
      "batch 300, batch_loss=0.6917086839675903, batch_accuracy=0.53125\n",
      "batch 400, batch_loss=0.7043049335479736, batch_accuracy=0.40625\n",
      "batch 500, batch_loss=0.6887885332107544, batch_accuracy=0.5625\n",
      "batch 600, batch_loss=0.6936759948730469, batch_accuracy=0.5\n",
      "Epoch 7\n",
      "batch 0, batch_loss=0.6894179582595825, batch_accuracy=0.5625\n",
      "batch 100, batch_loss=0.6936876773834229, batch_accuracy=0.5\n",
      "batch 200, batch_loss=0.697516918182373, batch_accuracy=0.4375\n",
      "batch 300, batch_loss=0.6915591359138489, batch_accuracy=0.53125\n",
      "batch 400, batch_loss=0.6993777751922607, batch_accuracy=0.4375\n",
      "batch 500, batch_loss=0.6891380548477173, batch_accuracy=0.5625\n",
      "batch 600, batch_loss=0.6989068388938904, batch_accuracy=0.4375\n",
      "Epoch 8\n",
      "batch 0, batch_loss=0.699937105178833, batch_accuracy=0.40625\n",
      "batch 100, batch_loss=0.6874650716781616, batch_accuracy=0.59375\n",
      "batch 200, batch_loss=0.698642373085022, batch_accuracy=0.4375\n",
      "batch 300, batch_loss=0.7025198936462402, batch_accuracy=0.375\n",
      "batch 400, batch_loss=0.7013260722160339, batch_accuracy=0.40625\n",
      "batch 500, batch_loss=0.7005603313446045, batch_accuracy=0.40625\n",
      "batch 600, batch_loss=0.700671911239624, batch_accuracy=0.40625\n",
      "Epoch 9\n",
      "batch 0, batch_loss=0.6938158273696899, batch_accuracy=0.5\n",
      "batch 100, batch_loss=0.7050643563270569, batch_accuracy=0.34375\n",
      "batch 200, batch_loss=0.6893976926803589, batch_accuracy=0.5625\n",
      "batch 300, batch_loss=0.6865563988685608, batch_accuracy=0.59375\n",
      "batch 400, batch_loss=0.6918655037879944, batch_accuracy=0.53125\n",
      "batch 500, batch_loss=0.690353512763977, batch_accuracy=0.5625\n",
      "batch 600, batch_loss=0.6871891021728516, batch_accuracy=0.59375\n"
     ]
    }
   ],
   "source": [
    "train()"
   ]
  },
  {
   "cell_type": "code",
   "execution_count": null,
   "metadata": {},
   "outputs": [],
   "source": [
    "import matplotlib.pyplot as plt\n",
    "testmodel = MNIST_Net(6,1)\n",
    "testmodel.load_state_dict(torch.load('model.pth'))\n",
    "testmodel.eval()\n",
    "testdata = MNIST_Video(train=True)\n",
    "testdata.write_gif(0,'testgif1.gif')\n",
    "testdata.write_gif(1,'testgif2.gif')"
   ]
  },
  {
   "cell_type": "code",
   "execution_count": 95,
   "metadata": {},
   "outputs": [
    {
     "data": {
      "text/plain": [
       "[<matplotlib.lines.Line2D at 0x7f1d137cefd0>]"
      ]
     },
     "execution_count": 95,
     "metadata": {},
     "output_type": "execute_result"
    },
    {
     "data": {
      "image/png": "[encoded data removed]",
      "text/plain": [
       "<Figure size 432x288 with 1 Axes>"
      ]
     },
     "metadata": {
      "needs_background": "light"
     },
     "output_type": "display_data"
    }
   ],
   "source": [
    "preds = []\n",
    "allpts = []\n",
    "for i in range(500):\n",
    "    pt, _ = testdata[i]\n",
    "    allpts.append(pt)\n",
    "    preds.append(testmodel(pt.unsqueeze(0)).item())\n",
    "plt.plot(preds)"
   ]
  },
  {
   "cell_type": "code",
   "execution_count": 86,
   "metadata": {
    "collapsed": true
   },
   "outputs": [
    {
     "name": "stdout",
     "output_type": "stream",
     "text": [
      "[-0.0710417777299881, -0.0710417777299881, -0.0710417777299881, -0.0710417777299881, -0.0710417777299881, -0.0710417777299881, -0.0710417777299881, -0.0710417777299881, -0.0710417777299881, -0.0710417777299881, -0.0710417777299881, -0.0710417777299881, -0.0710417777299881, -0.0710417777299881, -0.0710417777299881, -0.0710417777299881, -0.0710417777299881, -0.0710417777299881, -0.0710417777299881, -0.0710417777299881, -0.0710417777299881, -0.0710417777299881, -0.0710417777299881, -0.0710417777299881, -0.0710417777299881, -0.0710417777299881, -0.0710417777299881, -0.0710417777299881, -0.0710417777299881, -0.0710417777299881, -0.0710417777299881, -0.0710417777299881, -0.0710417777299881, -0.0710417777299881, -0.0710417777299881, -0.0710417777299881, -0.0710417777299881, -0.0710417777299881, -0.0710417777299881, -0.0710417777299881, -0.0710417777299881, -0.0710417777299881, -0.0710417777299881, -0.0710417777299881, -0.0710417777299881, -0.0710417777299881, -0.0710417777299881, -0.0710417777299881, -0.0710417777299881, -0.0710417777299881, -0.0710417777299881, -0.0710417777299881, -0.0710417777299881, -0.0710417777299881, -0.0710417777299881, -0.0710417777299881, -0.0710417777299881, -0.0710417777299881, -0.0710417777299881, -0.0710417777299881, -0.0710417777299881, -0.0710417777299881, -0.0710417777299881, -0.0710417777299881, -0.0710417777299881, -0.0710417777299881, -0.0710417777299881, -0.0710417777299881, -0.0710417777299881, -0.0710417777299881, -0.0710417777299881, -0.0710417777299881, -0.0710417777299881, -0.0710417777299881, -0.0710417777299881, -0.0710417777299881, -0.0710417777299881, -0.0710417777299881, -0.0710417777299881, -0.0710417777299881, -0.0710417777299881, -0.0710417777299881, -0.0710417777299881, -0.0710417777299881, -0.0710417777299881, -0.0710417777299881]\n"
     ]
    }
   ],
   "source": [
    "print(preds)"
   ]
  },
  {
   "cell_type": "code",
   "execution_count": 93,
   "metadata": {},
   "outputs": [
    {
     "name": "stdout",
     "output_type": "stream",
     "text": [
      "16.603023529052734\n"
     ]
    }
   ],
   "source": [
    "print(testmodel(torch.randn(1,6,128,128)).item())"
   ]
  },
  {
   "cell_type": "code",
   "execution_count": 94,
   "metadata": {
    "collapsed": true
   },
   "outputs": [
    {
     "name": "stdout",
     "output_type": "stream",
     "text": [
      "tensor([[[0.3070, 0.3208, 0.2880,  ..., 0.2586, 0.2576, 0.2112],\n",
      "         [0.2403, 0.2422, 0.2529,  ..., 0.3340, 0.1981, 0.3173],\n",
      "         [0.2670, 0.2955, 0.2368,  ..., 0.1742, 0.2502, 0.1891],\n",
      "         ...,\n",
      "         [0.2313, 0.3396, 0.2102,  ..., 0.3373, 0.3221, 0.3142],\n",
      "         [0.3020, 0.3100, 0.2506,  ..., 0.2148, 0.2528, 0.2789],\n",
      "         [0.3004, 0.3027, 0.2945,  ..., 0.2582, 0.1730, 0.2092]],\n",
      "\n",
      "        [[0.3820, 0.2245, 0.3134,  ..., 0.2771, 0.2507, 0.4294],\n",
      "         [0.2603, 0.3264, 0.2909,  ..., 0.3558, 0.1570, 0.2822],\n",
      "         [0.2638, 0.3129, 0.1855,  ..., 0.3534, 0.2711, 0.3188],\n",
      "         ...,\n",
      "         [0.2978, 0.2240, 0.3443,  ..., 0.2672, 0.2335, 0.2886],\n",
      "         [0.2195, 0.2122, 0.2089,  ..., 0.2566, 0.2508, 0.3518],\n",
      "         [0.2598, 0.2758, 0.1932,  ..., 0.2854, 0.2830, 0.2117]],\n",
      "\n",
      "        [[0.3398, 0.2599, 0.2605,  ..., 0.3129, 0.1497, 0.3473],\n",
      "         [0.2609, 0.3250, 0.3552,  ..., 0.3051, 0.2842, 0.2480],\n",
      "         [0.2358, 0.2455, 0.2295,  ..., 0.2217, 0.0880, 0.2699],\n",
      "         ...,\n",
      "         [0.2919, 0.1779, 0.3489,  ..., 0.3127, 0.1845, 0.1510],\n",
      "         [0.2521, 0.2357, 0.2723,  ..., 0.2877, 0.2730, 0.2810],\n",
      "         [0.2255, 0.1296, 0.2408,  ..., 0.2041, 0.3135, 0.1996]],\n",
      "\n",
      "        [[0.1976, 0.3107, 0.2653,  ..., 0.2412, 0.2800, 0.2393],\n",
      "         [0.2417, 0.2296, 0.2980,  ..., 0.3040, 0.3282, 0.2725],\n",
      "         [0.2775, 0.2209, 0.2082,  ..., 0.2610, 0.3214, 0.2649],\n",
      "         ...,\n",
      "         [0.3132, 0.2375, 0.3345,  ..., 0.2621, 0.3311, 0.3824],\n",
      "         [0.2511, 0.1871, 0.1847,  ..., 0.3959, 0.3009, 0.2556],\n",
      "         [0.1803, 0.2832, 0.2388,  ..., 0.3385, 0.3358, 0.2445]],\n",
      "\n",
      "        [[0.3436, 0.2908, 0.2764,  ..., 0.1596, 0.2621, 0.2037],\n",
      "         [0.2092, 0.2853, 0.1536,  ..., 0.2906, 0.2008, 0.2089],\n",
      "         [0.2960, 0.3727, 0.2665,  ..., 0.2938, 0.3123, 0.2105],\n",
      "         ...,\n",
      "         [0.1888, 0.2412, 0.2067,  ..., 0.2656, 0.2891, 0.2383],\n",
      "         [0.1704, 0.1675, 0.2978,  ..., 0.2571, 0.2120, 0.1970],\n",
      "         [0.2411, 0.1858, 0.2730,  ..., 0.2823, 0.3208, 0.1832]],\n",
      "\n",
      "        [[0.2845, 0.2987, 0.1774,  ..., 0.3831, 0.2863, 0.1311],\n",
      "         [0.2778, 0.2792, 0.3491,  ..., 0.2479, 0.2202, 0.3477],\n",
      "         [0.2723, 0.3435, 0.3388,  ..., 0.2676, 0.2676, 0.3273],\n",
      "         ...,\n",
      "         [0.3083, 0.3628, 0.2967,  ..., 0.3610, 0.2841, 0.2044],\n",
      "         [0.2941, 0.2669, 0.2392,  ..., 0.2855, 0.3437, 0.3557],\n",
      "         [0.2323, 0.3998, 0.3117,  ..., 0.2350, 0.1920, 0.2743]]])\n"
     ]
    }
   ],
   "source": [
    "pt, _ = testdata[20]\n",
    "print(pt)"
   ]
  },
  {
   "cell_type": "code",
   "execution_count": 101,
   "metadata": {},
   "outputs": [
    {
     "data": {
      "text/plain": [
       "tensor([[1, 1, 1,  ..., 1, 1, 1],\n",
       "        [1, 1, 1,  ..., 1, 1, 1],\n",
       "        [1, 1, 1,  ..., 1, 1, 1],\n",
       "        ...,\n",
       "        [1, 1, 1,  ..., 1, 1, 1],\n",
       "        [1, 1, 1,  ..., 1, 1, 1],\n",
       "        [1, 1, 1,  ..., 1, 1, 1]], dtype=torch.uint8)"
      ]
     },
     "execution_count": 101,
     "metadata": {},
     "output_type": "execute_result"
    }
   ],
   "source": [
    "allpts[0][1,:,:] == allpts[1][0,:,:]"
   ]
  },
  {
   "cell_type": "code",
   "execution_count": null,
   "metadata": {},
   "outputs": [],
   "source": []
  }
 ],
 "metadata": {
  "kernelspec": {
   "display_name": "Python 3",
   "language": "python",
   "name": "python3"
  },
  "language_info": {
   "codemirror_mode": {
    "name": "ipython",
    "version": 3
   },
   "file_extension": ".py",
   "mimetype": "text/x-python",
   "name": "python",
   "nbconvert_exporter": "python",
   "pygments_lexer": "ipython3",
   "version": "3.6.8"
  }
 },
 "nbformat": 4,
 "nbformat_minor": 2
}
