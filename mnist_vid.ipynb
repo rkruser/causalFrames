{
 "cells": [
  {
   "cell_type": "code",
   "execution_count": 44,
   "metadata": {},
   "outputs": [],
   "source": [
    "import numpy as np\n",
    "import torch\n",
    "import torchvision.datasets as datasets\n",
    "from torch.utils.data import Dataset, DataLoader\n",
    "from torchvision import transforms, utils\n",
    "from PIL import Image\n",
    "from array2gif import write_gif\n",
    "\n",
    "\n",
    "class MNIST_Video(Dataset):\n",
    "    def __init__(self, root='/scratch1/datasets/mnist', train=True, size=500, nframes=48, windowsize=6):\n",
    "        mnist_dset = datasets.MNIST(root=root, train=train, download=False, transform=transforms.ToTensor())\n",
    "        self.sample = np.random.choice(len(mnist_dset),size,replace=False)\n",
    "        self.dset = torch.stack([mnist_dset[i][0] for i in self.sample])\n",
    "        \n",
    "        # The points that decide the class of each video\n",
    "        self.choicePoints = np.random.choice(nframes, size, replace=True)\n",
    "        self.classes = np.random.choice(2,size,replace=True)\n",
    "        self.nframes = nframes\n",
    "        self.windowsize=windowsize\n",
    "        self.netframes = nframes-windowsize+1\n",
    "        #self.background = torch.zeros(1,128,128)\n",
    "        \n",
    "        self.startx = 50\n",
    "        self.inc=2\n",
    "        #self.starty = 0\n",
    "        \n",
    "    def __len__(self):\n",
    "        return len(self.dset)*self.netframes\n",
    "        \n",
    "    def __getitem__(self, index):\n",
    "        digitIndex = index//self.netframes\n",
    "        frameIndex = index%self.netframes\n",
    "        \n",
    "        digit = self.dset[digitIndex]\n",
    "        choicePoint = self.choicePoints[digitIndex]\n",
    "        #choicePoint=24\n",
    "        endPoint = frameIndex+self.windowsize\n",
    "        \n",
    "        yval = self.classes[digitIndex]\n",
    "        if yval == 0:\n",
    "            multiplier=-1\n",
    "        else:\n",
    "            multiplier=1\n",
    "        \n",
    "        outx = self.startx+self.inc*multiplier*np.maximum(\n",
    "            np.arange(frameIndex-choicePoint, frameIndex-choicePoint+self.windowsize),0)\n",
    "        outx = np.minimum(np.maximum(outx,0),100)\n",
    "        outy = self.inc*np.arange(frameIndex,endPoint)\n",
    "        \n",
    "        #import pdb; pdb.set_trace() #Debugging?\n",
    "        pts = torch.zeros(self.windowsize,128,128)\n",
    "        for i in range(self.windowsize):\n",
    "            pts[i,outx[i]:outx[i]+28,outy[i]:outy[i]+28] = digit[0,:,:]\n",
    "        pts = pts + 0.1*torch.randn(pts.size())\n",
    "        pts = (pts-pts.min())/(pts.max()-pts.min())\n",
    "            \n",
    "        return pts, yval\n",
    "       \n",
    "    def changeWindowSize(self,newSize):\n",
    "        self.windowsize = newSize\n",
    "        self.netframes = self.nframes-newSize+1\n",
    "    \n",
    "    def write_gif(self, index, fname):\n",
    "        backupWindowSize = self.windowsize\n",
    "        self.changeWindowSize(48)\n",
    "        pts, _ = self.__getitem__(index)\n",
    "        pts = pts.unsqueeze(1)\n",
    "        pts = torch.cat([pts,pts,pts],1)\n",
    "        pts = pts.numpy()\n",
    "        write_gif(pts*255, fname, fps=24)\n",
    "        self.changeWindowSize(backupWindowSize)\n",
    "        \n",
    "        \n",
    "        \n",
    "        \n",
    "\n"
   ]
  },
  {
   "cell_type": "code",
   "execution_count": 43,
   "metadata": {},
   "outputs": [
    {
     "name": "stdout",
     "output_type": "stream",
     "text": [
      "torch.Size([6, 128, 128]) 0\n"
     ]
    }
   ],
   "source": [
    "data = MNIST_Video()\n",
    "x,y =data[0]\n",
    "print(x.size(), y)\n",
    "data.write_gif(0,'test0.gif')\n",
    "data.write_gif(1,'test1.gif')\n",
    "data.write_gif(2,'test2.gif')\n",
    "data.write_gif(3,'test3.gif')\n",
    "data"
   ]
  },
  {
   "cell_type": "code",
   "execution_count": 35,
   "metadata": {},
   "outputs": [
    {
     "data": {
      "text/plain": [
       "tensor(24.)"
      ]
     },
     "execution_count": 35,
     "metadata": {},
     "output_type": "execute_result"
    }
   ],
   "source": [
    "torch.Tensor(np.arange(25).reshape((5,5))).max()"
   ]
  },
  {
   "cell_type": "code",
   "execution_count": 36,
   "metadata": {},
   "outputs": [
    {
     "data": {
      "text/plain": [
       "tensor([[ 1.1057,  0.4758,  0.4337],\n",
       "        [-0.3652,  0.5719,  0.5821],\n",
       "        [-0.1327, -0.2686,  0.1621]])"
      ]
     },
     "execution_count": 36,
     "metadata": {},
     "output_type": "execute_result"
    }
   ],
   "source": [
    "torch.randn(3,3)"
   ]
  },
  {
   "cell_type": "code",
   "execution_count": null,
   "metadata": {},
   "outputs": [],
   "source": []
  },
  {
   "cell_type": "code",
   "execution_count": null,
   "metadata": {},
   "outputs": [],
   "source": [
    "mnist_trainset = datasets.MNIST(root='/scratch1/datasets/mnist', train=True, download=False, transform=transforms.ToTensor())\n",
    "mnist_testset = datasets.MNIST(root='/scratch1/datasets/mnist', train=False, download=False, transform=transforms.ToTensor())\n",
    "\n",
    "print(len(mnist_trainset), len(mnist_testset), type(mnist_trainset))\n",
    "x,y = mnist_trainset[5]\n",
    "print(x.mean(),y)\n",
    "#print(x.size())"
   ]
  },
  {
   "cell_type": "code",
   "execution_count": null,
   "metadata": {},
   "outputs": [],
   "source": []
  }
 ],
 "metadata": {
  "kernelspec": {
   "display_name": "Python 3",
   "language": "python",
   "name": "python3"
  },
  "language_info": {
   "codemirror_mode": {
    "name": "ipython",
    "version": 3
   },
   "file_extension": ".py",
   "mimetype": "text/x-python",
   "name": "python",
   "nbconvert_exporter": "python",
   "pygments_lexer": "ipython3",
   "version": "3.6.8"
  }
 },
 "nbformat": 4,
 "nbformat_minor": 2
}
