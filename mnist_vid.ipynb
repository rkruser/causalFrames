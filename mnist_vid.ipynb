{
 "cells": [
  {
   "cell_type": "code",
   "execution_count": null,
   "metadata": {},
   "outputs": [],
   "source": [
    "import numpy as np\n",
    "import torch\n",
    "import torchvision.datasets as datasets\n",
    "import torch.nn as nn\n",
    "import torch.optim as optim\n",
    "import torch.nn.init as init\n",
    "from torch.utils.data import Dataset, DataLoader\n",
    "from torchvision import transforms, utils\n",
    "from PIL import Image\n",
    "from array2gif import write_gif\n",
    "import matplotlib.pyplot as plt\n",
    "import imageio\n",
    "\n",
    "\n",
    "class MNIST_Video(Dataset):\n",
    "    def __init__(self, root='/scratch1/datasets/mnist', train=True, size=500, nframes=48,\n",
    "                 windowsize=6, noise=0.1, mode='normal'):\n",
    "        mnist_dset = datasets.MNIST(root=root, train=train, download=False, transform=transforms.ToTensor())\n",
    "        self.sample = np.random.choice(len(mnist_dset),size,replace=False)\n",
    "        self.dset = torch.stack([mnist_dset[i][0] for i in self.sample])\n",
    "        \n",
    "        # The points that decide the class of each video\n",
    "        self.choicePoints = np.random.choice(nframes, size, replace=True)\n",
    "        self.classes = np.random.choice(2,size,replace=True)\n",
    "        self.nframes = nframes\n",
    "        self.windowsize=windowsize\n",
    "        self.netframes = nframes-windowsize+1\n",
    "        self.noise=noise\n",
    "        #self.background = torch.zeros(1,128,128)\n",
    "        \n",
    "        self.startx = 50\n",
    "        self.inc=2\n",
    "        self.mode=mode\n",
    "        #self.starty = 0\n",
    "        \n",
    "    def __len__(self):\n",
    "        return len(self.dset)*self.netframes\n",
    "        \n",
    "    def __getitem__(self, index):\n",
    "        digitIndex = index//self.netframes\n",
    "        frameIndex = index%self.netframes\n",
    "        \n",
    "        digit = self.dset[digitIndex]\n",
    "        choicePoint = self.choicePoints[digitIndex]\n",
    "        #choicePoint=24\n",
    "        endPoint = frameIndex+self.windowsize\n",
    "        \n",
    "        yval = self.classes[digitIndex]\n",
    "        if yval == 1:\n",
    "            multiplier=-1 #Go upwards with value 1\n",
    "        else:\n",
    "            multiplier=1\n",
    "        \n",
    "        if self.mode=='normal':\n",
    "            outx = self.startx+self.inc*multiplier*np.maximum(\n",
    "                np.arange(frameIndex-choicePoint, frameIndex-choicePoint+self.windowsize),0)\n",
    "        else:\n",
    "            outx = self.startx +\\\n",
    "                6*np.sin(((2*np.pi)/8)*np.arange(frameIndex,frameIndex+self.windowsize)).astype(int) +\\\n",
    "                self.inc*multiplier*np.maximum(\n",
    "                    np.arange(frameIndex-choicePoint, frameIndex-choicePoint+self.windowsize),0)\n",
    "        outx = np.minimum(np.maximum(outx,0),100)\n",
    "        outy = self.inc*np.arange(frameIndex,endPoint)\n",
    "        \n",
    "        #direction = np.random.choice(2)\n",
    "        #if direction==1:\n",
    "        #outy = np.flip(outy)\n",
    "        \n",
    "        #import pdb; pdb.set_trace() #Debugging?\n",
    "        pts = torch.zeros(self.windowsize,128,128)\n",
    "        for i in range(self.windowsize):\n",
    "            pts[i,outx[i]:outx[i]+28,outy[i]:outy[i]+28] = digit[0,:,:]\n",
    "        pts = pts + self.noise*torch.randn(pts.size())\n",
    "        pts = (pts-pts.min())/(pts.max()-pts.min())\n",
    "            \n",
    "        return pts, yval, choicePoint\n",
    "       \n",
    "    def changeWindowSize(self,newSize):\n",
    "        self.windowsize = newSize\n",
    "        self.netframes = self.nframes-newSize+1\n",
    "    \n",
    "    def write_gif(self, index, fname, predicted_choice=None):\n",
    "        backupWindowSize = self.windowsize\n",
    "        self.changeWindowSize(48)\n",
    "        pts, _, _ = self.__getitem__(index)\n",
    "        pts = pts.unsqueeze(1)\n",
    "        pts = torch.cat([pts,pts,pts],1)\n",
    "        pts = pts.numpy()\n",
    "        if predicted_choice is not None:\n",
    "            pts[predicted_choice:predicted_choice+6,1:3,:,:] = 0\n",
    "        pts = np.transpose((pts*255).astype('uint8'),(0,2,3,1))\n",
    "        #write_gif(pts*255, fname, fps=6)\n",
    "        imageio.mimsave(fname,pts,fps=12)\n",
    "        self.changeWindowSize(backupWindowSize)\n",
    "        \n",
    "    def numFrames(self):\n",
    "        return self.nframes\n",
    "    \n",
    "    def netFrames(self):\n",
    "        return self.netframes\n",
    "    \n",
    "    def numGifs(self):\n",
    "        return len(self.dset)\n",
    "        \n",
    "\n",
    "# Inspired by Alexnet\n",
    "class MNIST_Net(nn.Module):\n",
    "    def __init__(self, windowsize, numclasses):\n",
    "        super(MNIST_Net, self).__init__()\n",
    "        self.main = nn.Sequential(\n",
    "            # N x 128 x 128\n",
    "            nn.Conv2d(windowsize, 64, kernel_size=7, stride=2, padding=3),\n",
    "            # 64 x 64 x 64\n",
    "            nn.ReLU(inplace=True),\n",
    "            #nn.MaxPool2d(kernel_size=, stride=),\n",
    "            nn.Conv2d(64, 192, kernel_size=5, stride=2, padding=2),\n",
    "            # 128 x 32 x 32\n",
    "            nn.ReLU(inplace=True),\n",
    "            nn.Conv2d(192,384, kernel_size=3, stride=2, padding=1),\n",
    "            #256 x 16 x 16\n",
    "            nn.ReLU(inplace=True),\n",
    "            nn.Conv2d(384, 256, kernel_size=3, stride=1, padding=0),\n",
    "            # 256 x 14 x 14\n",
    "            nn.ReLU(inplace=True),\n",
    "        #    nn.Conv2d(256, 256, kernel_size=3, stride=1, padding=0),\n",
    "            # 256 x 12 x 12\n",
    "        #    nn.ReLU(inplace=True),\n",
    "            nn.MaxPool2d(kernel_size=3, stride=2)\n",
    "            # 256 x 6 x 6\n",
    "        )\n",
    "        self.classifier = nn.Sequential(\n",
    "            nn.Dropout(),\n",
    "            nn.Linear(256*6*6, 2048),\n",
    "            nn.ReLU(inplace=True),\n",
    "            nn.Dropout(),\n",
    "            nn.Linear(2048,2048),\n",
    "            nn.ReLU(inplace=True),\n",
    "            nn.Linear(2048,numclasses)\n",
    "        )\n",
    "        \n",
    "    def forward(self, x):\n",
    "        x = self.main(x)\n",
    "        x = x.view(x.size(0),-1)\n",
    "        x = self.classifier(x).squeeze(1)\n",
    "        return x\n",
    "    \n",
    "class Simple_MNIST_Net(nn.Module):\n",
    "    def __init__(self, windowsize, numclasses):\n",
    "        super(Simple_MNIST_Net, self).__init__()\n",
    "        self.main = nn.Sequential(\n",
    "            # N x 128 x 128\n",
    "            nn.Conv2d(windowsize, 64, kernel_size=7, stride=2, padding=3),\n",
    "            # 64 x 64 x 64\n",
    "            nn.ReLU(inplace=True),\n",
    "            #nn.MaxPool2d(kernel_size=, stride=),\n",
    "            nn.Conv2d(64, 64, kernel_size=5, stride=2, padding=2),\n",
    "            # 64 x 32 x 32\n",
    "            nn.ReLU(inplace=True),\n",
    "            nn.Conv2d(64,64, kernel_size=3, stride=2, padding=1),\n",
    "            #64 x 16 x 16\n",
    "            nn.ReLU(inplace=True)\n",
    "        )\n",
    "        self.classifier = nn.Sequential(\n",
    "            nn.Linear(64*16*16, numclasses)\n",
    "        )\n",
    "        \n",
    "    def forward(self, x):\n",
    "        x = self.main(x)\n",
    "        x = x.view(x.size(0),-1)\n",
    "        x = self.classifier(x).squeeze(1)\n",
    "        return x\n",
    "\n",
    "def weights_init(m):\n",
    "    classname = m.__class__.__name__\n",
    "    if classname.find('Conv') != -1:\n",
    "        m.weight.data.normal_(0.0, 0.01)\n",
    "    elif classname.find('BatchNorm') != -1:\n",
    "        m.weight.data.normal_(1.0, 0.01)\n",
    "        m.bias.data.fill_(0)\n",
    "    elif classname.find('Linear') != -1:\n",
    "        init.normal(m.weight, std=1e-2)\n",
    "        # init.orthogonal(m.weight)\n",
    "        #init.xavier_uniform(m.weight, gain=1.4)\n",
    "        if m.bias is not None:\n",
    "            init.constant(m.bias, 0.0)\n",
    "\n",
    "class AverageMeter(object):\n",
    "    def __init__(self):\n",
    "        self.count = 0\n",
    "        self.value = 0\n",
    "    def update(self, value, count=1):\n",
    "        self.value += value\n",
    "        self.count += count\n",
    "    def average(self):\n",
    "        return self.value / self.count\n",
    "    def reset(self):\n",
    "        self.count = 0\n",
    "        self.value = 0\n",
    "            \n",
    "def train(nepochs, outname='model.pth', windowsize=6, cont=False, noise=0.1, mode='normal'):\n",
    "    device='cuda:0'\n",
    "    dset = MNIST_Video(windowsize=windowsize, noise=noise, mode=mode)\n",
    "    loader = torch.utils.data.DataLoader(dset, batch_size=32, shuffle=True, num_workers=4)\n",
    "    \n",
    "    #model = MNIST_Net(6,1)\n",
    "    model = Simple_MNIST_Net(windowsize,1)\n",
    "    model.apply(weights_init)\n",
    "    if cont:\n",
    "        print(\"Continuing\")\n",
    "        model.load_state_dict(torch.load(outname))\n",
    "    model = model.to(device)\n",
    "    \n",
    "    optimizer = optim.Adam(model.parameters(), lr=0.0002, betas=(0.5,0.999))\n",
    "    lossfunc = nn.BCEWithLogitsLoss()\n",
    "    \n",
    "    accuracyMeter = AverageMeter()\n",
    "    lossMeter = AverageMeter()\n",
    "    model.train()\n",
    "    for epoch in range(nepochs):\n",
    "        print(\"Epoch\", epoch)\n",
    "        accuracyMeter.reset()\n",
    "        lossMeter.reset()\n",
    "        for i, data in enumerate(loader):\n",
    "            # Extract training batches\n",
    "            ims, labels, _ = data\n",
    "            device_labels = labels.float().to(device)\n",
    "            device_ims = ims.to(device)\n",
    "\n",
    "            # Train network\n",
    "            model.zero_grad()\n",
    "            predictions = model(device_ims)\n",
    "            loss = lossfunc(predictions, device_labels)\n",
    "            loss.backward()\n",
    "            optimizer.step()\n",
    "\n",
    "            # Compute statistics\n",
    "            rounded = torch.sigmoid(predictions).round().long()\n",
    "            rounded = rounded.to('cpu')\n",
    "            correct = torch.sum(rounded == labels).item()\n",
    "            batch_size = predictions.size(0)\n",
    "            accuracyMeter.update(correct, batch_size)\n",
    "            lossMeter.update(loss.item())\n",
    "\n",
    "            if i%200 == 0:\n",
    "               # print(\"labels\", labels)\n",
    "               # print(\"predictions\", rounded)\n",
    "                accuracy = correct/batch_size\n",
    "                print(\"batch {1}, batch_loss={2}, batch_accuracy={3}\".format(\n",
    "                    epoch,i,loss.item(),accuracy))\n",
    "    \n",
    "    torch.save(model.state_dict(), outname)\n",
    "    \n",
    "# Returns the index of the first thing in a row to satisfy the criteria\n",
    "def firstPerRow(arr):\n",
    "    vals = []\n",
    "    for row in arr:\n",
    "        t = np.where(row)[0]\n",
    "        if len(t) == 0:\n",
    "            vals.append(arr.shape[1])\n",
    "        else:\n",
    "            vals.append(t[0])\n",
    "    return vals\n",
    "    \n",
    "    \n",
    "def test(modelname, windowsize=6, noise=0.1, mode='normal'):\n",
    "    testmodel = Simple_MNIST_Net(windowsize,1)\n",
    "    testmodel.load_state_dict(torch.load(modelname))\n",
    "    testmodel.eval()\n",
    "    testdata = MNIST_Video(train=False, windowsize=windowsize, noise=0.1, mode=mode)\n",
    "    \n",
    "    preds = []\n",
    "    for i in range(460):\n",
    "        if i%100 == 0:\n",
    "            print(i)\n",
    "        pt, y, choicept = testdata[i]\n",
    "        #print(y)\n",
    "        #allpts.append(pt)\n",
    "        preds.append(torch.sigmoid(testmodel(pt.unsqueeze(0))).item())\n",
    "    preds = np.array(preds).reshape((10,testdata.netFrames()))\n",
    "    #pred_indices = np.where(np.logical_or((preds>0.999), (preds < 0.001)))\n",
    "    pred_indices = firstPerRow(np.logical_or(preds>0.999,preds<0.001))\n",
    "    print(pred_indices)\n",
    "    for i in range(10): #range(testdata.numGifs()):\n",
    "        testdata.write_gif(i,'testgif{}.gif'.format(i),predicted_choice=pred_indices[i])\n",
    "        ind = i*testdata.netFrames()\n",
    "        pt, y, choicept = testdata[ind]\n",
    "        print(\"Y=\",y, \"Choicept=\", choicept, \"Predicted=\",pred_indices[i])\n",
    "        plt.plot(preds[i,:])\n",
    "        plt.show()\n",
    "        input(\"Press enter\")\n",
    "        \n",
    "        \n",
    "        "
   ]
  },
  {
   "cell_type": "code",
   "execution_count": 67,
   "metadata": {
    "scrolled": true
   },
   "outputs": [
    {
     "name": "stdout",
     "output_type": "stream",
     "text": [
      "Epoch 0\n"
     ]
    },
    {
     "name": "stderr",
     "output_type": "stream",
     "text": [
      "/scratch0/anaconda3/lib/python3.6/site-packages/ipykernel_launcher.py:181: UserWarning: nn.init.normal is now deprecated in favor of nn.init.normal_.\n",
      "/scratch0/anaconda3/lib/python3.6/site-packages/ipykernel_launcher.py:185: UserWarning: nn.init.constant is now deprecated in favor of nn.init.constant_.\n"
     ]
    },
    {
     "name": "stdout",
     "output_type": "stream",
     "text": [
      "batch 0, batch_loss=0.6905913352966309, batch_accuracy=0.59375\n",
      "batch 200, batch_loss=0.4304247498512268, batch_accuracy=0.8125\n",
      "batch 400, batch_loss=0.47546571493148804, batch_accuracy=0.625\n",
      "batch 600, batch_loss=0.38856130838394165, batch_accuracy=0.75\n",
      "Epoch 1\n",
      "batch 0, batch_loss=0.41643026471138, batch_accuracy=0.71875\n",
      "batch 200, batch_loss=0.29281938076019287, batch_accuracy=0.8125\n",
      "batch 400, batch_loss=0.39737623929977417, batch_accuracy=0.6875\n",
      "batch 600, batch_loss=0.47812187671661377, batch_accuracy=0.625\n",
      "Epoch 2\n",
      "batch 0, batch_loss=0.3672465980052948, batch_accuracy=0.75\n",
      "batch 200, batch_loss=0.32586705684661865, batch_accuracy=0.8125\n",
      "batch 400, batch_loss=0.3286888003349304, batch_accuracy=0.84375\n",
      "batch 600, batch_loss=0.3761838674545288, batch_accuracy=0.625\n",
      "Epoch 3\n",
      "batch 0, batch_loss=0.4135141968727112, batch_accuracy=0.75\n",
      "batch 200, batch_loss=0.23033051192760468, batch_accuracy=0.8125\n",
      "batch 400, batch_loss=0.3259474039077759, batch_accuracy=0.875\n",
      "batch 600, batch_loss=0.4012134373188019, batch_accuracy=0.78125\n",
      "Epoch 4\n",
      "batch 0, batch_loss=0.2934683561325073, batch_accuracy=0.875\n",
      "batch 200, batch_loss=0.4044645428657532, batch_accuracy=0.71875\n",
      "batch 400, batch_loss=0.27540072798728943, batch_accuracy=0.875\n",
      "batch 600, batch_loss=0.2852882742881775, batch_accuracy=0.90625\n"
     ]
    }
   ],
   "source": [
    "train(5,'models/simple_model_3w_10e_01n.pth',cont=False,noise=0.1,windowsize=3)"
   ]
  },
  {
   "cell_type": "code",
   "execution_count": 68,
   "metadata": {},
   "outputs": [
    {
     "name": "stdout",
     "output_type": "stream",
     "text": [
      "0\n",
      "100\n",
      "200\n",
      "300\n",
      "400\n",
      "[25, 12, 14, 46, 33, 42, 40, 38, 46, 13]\n",
      "Y= 0 Choicept= 15 Predicted= 25\n"
     ]
    },
    {
     "data": {
      "image/png": "[encoded data removed]",
      "text/plain": [
       "<Figure size 432x288 with 1 Axes>"
      ]
     },
     "metadata": {
      "needs_background": "light"
     },
     "output_type": "display_data"
    },
    {
     "name": "stdout",
     "output_type": "stream",
     "text": [
      "Press enter\n",
      "Y= 1 Choicept= 10 Predicted= 12\n"
     ]
    },
    {
     "data": {
      "image/png": "[encoded data removed]",
      "text/plain": [
       "<Figure size 432x288 with 1 Axes>"
      ]
     },
     "metadata": {
      "needs_background": "light"
     },
     "output_type": "display_data"
    },
    {
     "name": "stdout",
     "output_type": "stream",
     "text": [
      "Press enter\n",
      "Y= 0 Choicept= 6 Predicted= 14\n"
     ]
    },
    {
     "data": {
      "image/png": "[encoded data removed]",
      "text/plain": [
       "<Figure size 432x288 with 1 Axes>"
      ]
     },
     "metadata": {
      "needs_background": "light"
     },
     "output_type": "display_data"
    },
    {
     "ename": "KeyboardInterrupt",
     "evalue": "",
     "output_type": "error",
     "traceback": [
      "\u001b[0;31m---------------------------------------------------------------------------\u001b[0m",
      "\u001b[0;31mKeyboardInterrupt\u001b[0m                         Traceback (most recent call last)",
      "\u001b[0;32m/scratch0/anaconda3/lib/python3.6/site-packages/ipykernel/kernelbase.py\u001b[0m in \u001b[0;36m_input_request\u001b[0;34m(self, prompt, ident, parent, password)\u001b[0m\n\u001b[1;32m    877\u001b[0m             \u001b[0;32mtry\u001b[0m\u001b[0;34m:\u001b[0m\u001b[0;34m\u001b[0m\u001b[0;34m\u001b[0m\u001b[0m\n\u001b[0;32m--> 878\u001b[0;31m                 \u001b[0mident\u001b[0m\u001b[0;34m,\u001b[0m \u001b[0mreply\u001b[0m \u001b[0;34m=\u001b[0m \u001b[0mself\u001b[0m\u001b[0;34m.\u001b[0m\u001b[0msession\u001b[0m\u001b[0;34m.\u001b[0m\u001b[0mrecv\u001b[0m\u001b[0;34m(\u001b[0m\u001b[0mself\u001b[0m\u001b[0;34m.\u001b[0m\u001b[0mstdin_socket\u001b[0m\u001b[0;34m,\u001b[0m \u001b[0;36m0\u001b[0m\u001b[0;34m)\u001b[0m\u001b[0;34m\u001b[0m\u001b[0;34m\u001b[0m\u001b[0m\n\u001b[0m\u001b[1;32m    879\u001b[0m             \u001b[0;32mexcept\u001b[0m \u001b[0mException\u001b[0m\u001b[0;34m:\u001b[0m\u001b[0;34m\u001b[0m\u001b[0;34m\u001b[0m\u001b[0m\n",
      "\u001b[0;32m/scratch0/anaconda3/lib/python3.6/site-packages/jupyter_client/session.py\u001b[0m in \u001b[0;36mrecv\u001b[0;34m(self, socket, mode, content, copy)\u001b[0m\n\u001b[1;32m    802\u001b[0m         \u001b[0;32mtry\u001b[0m\u001b[0;34m:\u001b[0m\u001b[0;34m\u001b[0m\u001b[0;34m\u001b[0m\u001b[0m\n\u001b[0;32m--> 803\u001b[0;31m             \u001b[0mmsg_list\u001b[0m \u001b[0;34m=\u001b[0m \u001b[0msocket\u001b[0m\u001b[0;34m.\u001b[0m\u001b[0mrecv_multipart\u001b[0m\u001b[0;34m(\u001b[0m\u001b[0mmode\u001b[0m\u001b[0;34m,\u001b[0m \u001b[0mcopy\u001b[0m\u001b[0;34m=\u001b[0m\u001b[0mcopy\u001b[0m\u001b[0;34m)\u001b[0m\u001b[0;34m\u001b[0m\u001b[0;34m\u001b[0m\u001b[0m\n\u001b[0m\u001b[1;32m    804\u001b[0m         \u001b[0;32mexcept\u001b[0m \u001b[0mzmq\u001b[0m\u001b[0;34m.\u001b[0m\u001b[0mZMQError\u001b[0m \u001b[0;32mas\u001b[0m \u001b[0me\u001b[0m\u001b[0;34m:\u001b[0m\u001b[0;34m\u001b[0m\u001b[0;34m\u001b[0m\u001b[0m\n",
      "\u001b[0;32m/scratch0/anaconda3/lib/python3.6/site-packages/zmq/sugar/socket.py\u001b[0m in \u001b[0;36mrecv_multipart\u001b[0;34m(self, flags, copy, track)\u001b[0m\n\u001b[1;32m    466\u001b[0m         \"\"\"\n\u001b[0;32m--> 467\u001b[0;31m         \u001b[0mparts\u001b[0m \u001b[0;34m=\u001b[0m \u001b[0;34m[\u001b[0m\u001b[0mself\u001b[0m\u001b[0;34m.\u001b[0m\u001b[0mrecv\u001b[0m\u001b[0;34m(\u001b[0m\u001b[0mflags\u001b[0m\u001b[0;34m,\u001b[0m \u001b[0mcopy\u001b[0m\u001b[0;34m=\u001b[0m\u001b[0mcopy\u001b[0m\u001b[0;34m,\u001b[0m \u001b[0mtrack\u001b[0m\u001b[0;34m=\u001b[0m\u001b[0mtrack\u001b[0m\u001b[0;34m)\u001b[0m\u001b[0;34m]\u001b[0m\u001b[0;34m\u001b[0m\u001b[0;34m\u001b[0m\u001b[0m\n\u001b[0m\u001b[1;32m    468\u001b[0m         \u001b[0;31m# have first part already, only loop while more to receive\u001b[0m\u001b[0;34m\u001b[0m\u001b[0;34m\u001b[0m\u001b[0;34m\u001b[0m\u001b[0m\n",
      "\u001b[0;32mzmq/backend/cython/socket.pyx\u001b[0m in \u001b[0;36mzmq.backend.cython.socket.Socket.recv\u001b[0;34m()\u001b[0m\n",
      "\u001b[0;32mzmq/backend/cython/socket.pyx\u001b[0m in \u001b[0;36mzmq.backend.cython.socket.Socket.recv\u001b[0;34m()\u001b[0m\n",
      "\u001b[0;32mzmq/backend/cython/socket.pyx\u001b[0m in \u001b[0;36mzmq.backend.cython.socket._recv_copy\u001b[0;34m()\u001b[0m\n",
      "\u001b[0;32m/scratch0/anaconda3/lib/python3.6/site-packages/zmq/backend/cython/checkrc.pxd\u001b[0m in \u001b[0;36mzmq.backend.cython.checkrc._check_rc\u001b[0;34m()\u001b[0m\n",
      "\u001b[0;31mKeyboardInterrupt\u001b[0m: ",
      "\nDuring handling of the above exception, another exception occurred:\n",
      "\u001b[0;31mKeyboardInterrupt\u001b[0m                         Traceback (most recent call last)",
      "\u001b[0;32m<ipython-input-68-1d1a0f9c9e88>\u001b[0m in \u001b[0;36m<module>\u001b[0;34m\u001b[0m\n\u001b[0;32m----> 1\u001b[0;31m \u001b[0mtest\u001b[0m\u001b[0;34m(\u001b[0m\u001b[0;34m'models/simple_model_3w_10e_01n.pth'\u001b[0m\u001b[0;34m,\u001b[0m\u001b[0mnoise\u001b[0m\u001b[0;34m=\u001b[0m\u001b[0;36m0.1\u001b[0m\u001b[0;34m,\u001b[0m \u001b[0mwindowsize\u001b[0m\u001b[0;34m=\u001b[0m\u001b[0;36m3\u001b[0m\u001b[0;34m)\u001b[0m\u001b[0;34m\u001b[0m\u001b[0;34m\u001b[0m\u001b[0m\n\u001b[0m",
      "\u001b[0;32m<ipython-input-65-1dec62bb6219>\u001b[0m in \u001b[0;36mtest\u001b[0;34m(modelname, windowsize, noise, mode)\u001b[0m\n\u001b[1;32m    288\u001b[0m         \u001b[0mplt\u001b[0m\u001b[0;34m.\u001b[0m\u001b[0mplot\u001b[0m\u001b[0;34m(\u001b[0m\u001b[0mpreds\u001b[0m\u001b[0;34m[\u001b[0m\u001b[0mi\u001b[0m\u001b[0;34m,\u001b[0m\u001b[0;34m:\u001b[0m\u001b[0;34m]\u001b[0m\u001b[0;34m)\u001b[0m\u001b[0;34m\u001b[0m\u001b[0;34m\u001b[0m\u001b[0m\n\u001b[1;32m    289\u001b[0m         \u001b[0mplt\u001b[0m\u001b[0;34m.\u001b[0m\u001b[0mshow\u001b[0m\u001b[0;34m(\u001b[0m\u001b[0;34m)\u001b[0m\u001b[0;34m\u001b[0m\u001b[0;34m\u001b[0m\u001b[0m\n\u001b[0;32m--> 290\u001b[0;31m         \u001b[0minput\u001b[0m\u001b[0;34m(\u001b[0m\u001b[0;34m\"Press enter\"\u001b[0m\u001b[0;34m)\u001b[0m\u001b[0;34m\u001b[0m\u001b[0;34m\u001b[0m\u001b[0m\n\u001b[0m\u001b[1;32m    291\u001b[0m \u001b[0;34m\u001b[0m\u001b[0m\n\u001b[1;32m    292\u001b[0m \u001b[0;34m\u001b[0m\u001b[0m\n",
      "\u001b[0;32m/scratch0/anaconda3/lib/python3.6/site-packages/ipykernel/kernelbase.py\u001b[0m in \u001b[0;36mraw_input\u001b[0;34m(self, prompt)\u001b[0m\n\u001b[1;32m    851\u001b[0m             \u001b[0mself\u001b[0m\u001b[0;34m.\u001b[0m\u001b[0m_parent_ident\u001b[0m\u001b[0;34m,\u001b[0m\u001b[0;34m\u001b[0m\u001b[0;34m\u001b[0m\u001b[0m\n\u001b[1;32m    852\u001b[0m             \u001b[0mself\u001b[0m\u001b[0;34m.\u001b[0m\u001b[0m_parent_header\u001b[0m\u001b[0;34m,\u001b[0m\u001b[0;34m\u001b[0m\u001b[0;34m\u001b[0m\u001b[0m\n\u001b[0;32m--> 853\u001b[0;31m             \u001b[0mpassword\u001b[0m\u001b[0;34m=\u001b[0m\u001b[0;32mFalse\u001b[0m\u001b[0;34m,\u001b[0m\u001b[0;34m\u001b[0m\u001b[0;34m\u001b[0m\u001b[0m\n\u001b[0m\u001b[1;32m    854\u001b[0m         )\n\u001b[1;32m    855\u001b[0m \u001b[0;34m\u001b[0m\u001b[0m\n",
      "\u001b[0;32m/scratch0/anaconda3/lib/python3.6/site-packages/ipykernel/kernelbase.py\u001b[0m in \u001b[0;36m_input_request\u001b[0;34m(self, prompt, ident, parent, password)\u001b[0m\n\u001b[1;32m    881\u001b[0m             \u001b[0;32mexcept\u001b[0m \u001b[0mKeyboardInterrupt\u001b[0m\u001b[0;34m:\u001b[0m\u001b[0;34m\u001b[0m\u001b[0;34m\u001b[0m\u001b[0m\n\u001b[1;32m    882\u001b[0m                 \u001b[0;31m# re-raise KeyboardInterrupt, to truncate traceback\u001b[0m\u001b[0;34m\u001b[0m\u001b[0;34m\u001b[0m\u001b[0;34m\u001b[0m\u001b[0m\n\u001b[0;32m--> 883\u001b[0;31m                 \u001b[0;32mraise\u001b[0m \u001b[0mKeyboardInterrupt\u001b[0m\u001b[0;34m\u001b[0m\u001b[0;34m\u001b[0m\u001b[0m\n\u001b[0m\u001b[1;32m    884\u001b[0m             \u001b[0;32melse\u001b[0m\u001b[0;34m:\u001b[0m\u001b[0;34m\u001b[0m\u001b[0;34m\u001b[0m\u001b[0m\n\u001b[1;32m    885\u001b[0m                 \u001b[0;32mbreak\u001b[0m\u001b[0;34m\u001b[0m\u001b[0;34m\u001b[0m\u001b[0m\n",
      "\u001b[0;31mKeyboardInterrupt\u001b[0m: "
     ]
    }
   ],
   "source": [
    "test('models/simple_model_3w_10e_01n.pth',noise=0.1, windowsize=3)"
   ]
  },
  {
   "cell_type": "code",
   "execution_count": 62,
   "metadata": {},
   "outputs": [
    {
     "name": "stdout",
     "output_type": "stream",
     "text": [
      "torch.Size([6, 128, 128]) 1\n",
      "21500\n"
     ]
    }
   ],
   "source": [
    "data = MNIST_Video()\n",
    "x,y =data[0]\n",
    "print(x.size(), y)\n",
    "print(len(data))\n",
    "# data.write_gif(0,'test0.gif')\n",
    "# data.write_gif(1,'test1.gif')\n",
    "# data.write_gif(2,'test2.gif')\n",
    "# data.write_gif(3,'test3.gif')\n",
    "# data.write_gif(499,'test499.gif')"
   ]
  },
  {
   "cell_type": "code",
   "execution_count": 34,
   "metadata": {
    "collapsed": true
   },
   "outputs": [
    {
     "name": "stdout",
     "output_type": "stream",
     "text": [
      "Epoch 0\n"
     ]
    },
    {
     "name": "stderr",
     "output_type": "stream",
     "text": [
      "/scratch0/anaconda3/lib/python3.6/site-packages/ipykernel_launcher.py:155: UserWarning: nn.init.normal is now deprecated in favor of nn.init.normal_.\n",
      "/scratch0/anaconda3/lib/python3.6/site-packages/ipykernel_launcher.py:159: UserWarning: nn.init.constant is now deprecated in favor of nn.init.constant_.\n"
     ]
    },
    {
     "name": "stdout",
     "output_type": "stream",
     "text": [
      "batch 0, batch_loss=0.6943107843399048, batch_accuracy=0.4375\n",
      "batch 100, batch_loss=0.6692947149276733, batch_accuracy=0.625\n",
      "batch 200, batch_loss=0.3312029242515564, batch_accuracy=0.875\n",
      "batch 300, batch_loss=0.37576135993003845, batch_accuracy=0.75\n",
      "batch 400, batch_loss=0.3900432586669922, batch_accuracy=0.65625\n",
      "batch 500, batch_loss=0.32730382680892944, batch_accuracy=0.84375\n",
      "batch 600, batch_loss=0.40228211879730225, batch_accuracy=0.71875\n",
      "Epoch 1\n",
      "batch 0, batch_loss=0.382995069026947, batch_accuracy=0.75\n",
      "batch 100, batch_loss=0.31886589527130127, batch_accuracy=0.75\n",
      "batch 200, batch_loss=0.33740293979644775, batch_accuracy=0.8125\n",
      "batch 300, batch_loss=0.26758044958114624, batch_accuracy=0.84375\n",
      "batch 400, batch_loss=0.4052567183971405, batch_accuracy=0.71875\n",
      "batch 500, batch_loss=0.3269391655921936, batch_accuracy=0.75\n",
      "batch 600, batch_loss=0.2812035083770752, batch_accuracy=0.84375\n",
      "Epoch 2\n",
      "batch 0, batch_loss=0.4373282194137573, batch_accuracy=0.71875\n",
      "batch 100, batch_loss=0.34855949878692627, batch_accuracy=0.78125\n",
      "batch 200, batch_loss=0.37012219429016113, batch_accuracy=0.78125\n",
      "batch 300, batch_loss=0.40729382634162903, batch_accuracy=0.75\n",
      "batch 400, batch_loss=0.342089980840683, batch_accuracy=0.78125\n",
      "batch 500, batch_loss=0.26929861307144165, batch_accuracy=0.875\n",
      "batch 600, batch_loss=0.3809102177619934, batch_accuracy=0.78125\n",
      "Epoch 3\n",
      "batch 0, batch_loss=0.38194960355758667, batch_accuracy=0.78125\n",
      "batch 100, batch_loss=0.349197119474411, batch_accuracy=0.75\n",
      "batch 200, batch_loss=0.26345235109329224, batch_accuracy=0.875\n",
      "batch 300, batch_loss=0.23297879099845886, batch_accuracy=0.84375\n",
      "batch 400, batch_loss=0.36094963550567627, batch_accuracy=0.71875\n",
      "batch 500, batch_loss=0.2514893114566803, batch_accuracy=0.84375\n",
      "batch 600, batch_loss=0.3199108839035034, batch_accuracy=0.8125\n",
      "Epoch 4\n",
      "batch 0, batch_loss=0.23972494900226593, batch_accuracy=0.8125\n",
      "batch 100, batch_loss=0.2745034694671631, batch_accuracy=0.75\n",
      "batch 200, batch_loss=0.2772267758846283, batch_accuracy=0.8125\n",
      "batch 300, batch_loss=0.2299075424671173, batch_accuracy=0.84375\n",
      "batch 400, batch_loss=0.197623610496521, batch_accuracy=0.875\n",
      "batch 500, batch_loss=0.2642233967781067, batch_accuracy=0.875\n",
      "batch 600, batch_loss=0.260898619890213, batch_accuracy=0.84375\n",
      "Epoch 5\n",
      "batch 0, batch_loss=0.30385494232177734, batch_accuracy=0.75\n",
      "batch 100, batch_loss=0.2501450181007385, batch_accuracy=0.84375\n",
      "batch 200, batch_loss=0.3104020059108734, batch_accuracy=0.84375\n",
      "batch 300, batch_loss=0.3162793517112732, batch_accuracy=0.8125\n",
      "batch 400, batch_loss=0.280428409576416, batch_accuracy=0.90625\n",
      "batch 500, batch_loss=0.19725582003593445, batch_accuracy=0.90625\n",
      "batch 600, batch_loss=0.17555198073387146, batch_accuracy=0.90625\n",
      "Epoch 6\n",
      "batch 0, batch_loss=0.25689440965652466, batch_accuracy=0.9375\n",
      "batch 100, batch_loss=0.375194787979126, batch_accuracy=0.75\n",
      "batch 200, batch_loss=0.29698970913887024, batch_accuracy=0.875\n",
      "batch 300, batch_loss=0.3268592953681946, batch_accuracy=0.8125\n",
      "batch 400, batch_loss=0.2741265594959259, batch_accuracy=0.875\n",
      "batch 500, batch_loss=0.26950809359550476, batch_accuracy=0.84375\n",
      "batch 600, batch_loss=0.26672422885894775, batch_accuracy=0.84375\n",
      "Epoch 7\n",
      "batch 0, batch_loss=0.24489475786685944, batch_accuracy=0.8125\n",
      "batch 100, batch_loss=0.16482368111610413, batch_accuracy=0.9375\n",
      "batch 200, batch_loss=0.3125174045562744, batch_accuracy=0.78125\n",
      "batch 300, batch_loss=0.39160656929016113, batch_accuracy=0.75\n",
      "batch 400, batch_loss=0.275583952665329, batch_accuracy=0.84375\n",
      "batch 500, batch_loss=0.31487637758255005, batch_accuracy=0.84375\n",
      "batch 600, batch_loss=0.30716222524642944, batch_accuracy=0.8125\n",
      "Epoch 8\n",
      "batch 0, batch_loss=0.18003174662590027, batch_accuracy=0.90625\n",
      "batch 100, batch_loss=0.3293156027793884, batch_accuracy=0.8125\n",
      "batch 200, batch_loss=0.16972042620182037, batch_accuracy=0.90625\n",
      "batch 300, batch_loss=0.24456357955932617, batch_accuracy=0.84375\n",
      "batch 400, batch_loss=0.222347229719162, batch_accuracy=0.9375\n",
      "batch 500, batch_loss=0.25323477387428284, batch_accuracy=0.8125\n",
      "batch 600, batch_loss=0.2961045503616333, batch_accuracy=0.90625\n",
      "Epoch 9\n",
      "batch 0, batch_loss=0.17521557211875916, batch_accuracy=0.90625\n",
      "batch 100, batch_loss=0.17009449005126953, batch_accuracy=0.90625\n",
      "batch 200, batch_loss=0.14773714542388916, batch_accuracy=0.9375\n",
      "batch 300, batch_loss=0.34288907051086426, batch_accuracy=0.84375\n",
      "batch 400, batch_loss=0.2756281793117523, batch_accuracy=0.84375\n",
      "batch 500, batch_loss=0.10471062362194061, batch_accuracy=1.0\n",
      "batch 600, batch_loss=0.1520891785621643, batch_accuracy=0.9375\n"
     ]
    }
   ],
   "source": [
    "#train(10, 'model_6w_10e_0n.pth')\n",
    "train(10, 'simple_model_6w_10e_0n.pth', noise=0.1)"
   ]
  },
  {
   "cell_type": "code",
   "execution_count": 35,
   "metadata": {},
   "outputs": [],
   "source": [
    "\n",
    "testmodel = Simple_MNIST_Net(6,1)\n",
    "testmodel.load_state_dict(torch.load('simple_model_6w_10e_0n.pth'))\n",
    "testmodel.eval()\n",
    "testdata = MNIST_Video(train=False, noise=0.1)\n",
    "testdata.write_gif(0,'testgif1.gif')\n",
    "testdata.write_gif(1,'testgif2.gif')"
   ]
  },
  {
   "cell_type": "code",
   "execution_count": 37,
   "metadata": {
    "scrolled": true
   },
   "outputs": [
    {
     "data": {
      "text/plain": [
       "[<matplotlib.lines.Line2D at 0x7f402192b860>]"
      ]
     },
     "execution_count": 37,
     "metadata": {},
     "output_type": "execute_result"
    },
    {
     "data": {
      "image/png": "[encoded data removed]",
      "text/plain": [
       "<Figure size 432x288 with 1 Axes>"
      ]
     },
     "metadata": {
      "needs_background": "light"
     },
     "output_type": "display_data"
    }
   ],
   "source": [
    "preds = []\n",
    "allpts = []\n",
    "for i in range(86):\n",
    "    pt, y = testdata[i]\n",
    "    #print(y)\n",
    "    allpts.append(pt)\n",
    "    preds.append(torch.sigmoid(testmodel(pt.unsqueeze(0))).item())\n",
    "plt.plot(preds)"
   ]
  },
  {
   "cell_type": "code",
   "execution_count": 86,
   "metadata": {
    "collapsed": true
   },
   "outputs": [
    {
     "name": "stdout",
     "output_type": "stream",
     "text": [
      "[-0.0710417777299881, -0.0710417777299881, -0.0710417777299881, -0.0710417777299881, -0.0710417777299881, -0.0710417777299881, -0.0710417777299881, -0.0710417777299881, -0.0710417777299881, -0.0710417777299881, -0.0710417777299881, -0.0710417777299881, -0.0710417777299881, -0.0710417777299881, -0.0710417777299881, -0.0710417777299881, -0.0710417777299881, -0.0710417777299881, -0.0710417777299881, -0.0710417777299881, -0.0710417777299881, -0.0710417777299881, -0.0710417777299881, -0.0710417777299881, -0.0710417777299881, -0.0710417777299881, -0.0710417777299881, -0.0710417777299881, -0.0710417777299881, -0.0710417777299881, -0.0710417777299881, -0.0710417777299881, -0.0710417777299881, -0.0710417777299881, -0.0710417777299881, -0.0710417777299881, -0.0710417777299881, -0.0710417777299881, -0.0710417777299881, -0.0710417777299881, -0.0710417777299881, -0.0710417777299881, -0.0710417777299881, -0.0710417777299881, -0.0710417777299881, -0.0710417777299881, -0.0710417777299881, -0.0710417777299881, -0.0710417777299881, -0.0710417777299881, -0.0710417777299881, -0.0710417777299881, -0.0710417777299881, -0.0710417777299881, -0.0710417777299881, -0.0710417777299881, -0.0710417777299881, -0.0710417777299881, -0.0710417777299881, -0.0710417777299881, -0.0710417777299881, -0.0710417777299881, -0.0710417777299881, -0.0710417777299881, -0.0710417777299881, -0.0710417777299881, -0.0710417777299881, -0.0710417777299881, -0.0710417777299881, -0.0710417777299881, -0.0710417777299881, -0.0710417777299881, -0.0710417777299881, -0.0710417777299881, -0.0710417777299881, -0.0710417777299881, -0.0710417777299881, -0.0710417777299881, -0.0710417777299881, -0.0710417777299881, -0.0710417777299881, -0.0710417777299881, -0.0710417777299881, -0.0710417777299881, -0.0710417777299881, -0.0710417777299881]\n"
     ]
    }
   ],
   "source": [
    "print(preds)"
   ]
  },
  {
   "cell_type": "code",
   "execution_count": 93,
   "metadata": {},
   "outputs": [
    {
     "name": "stdout",
     "output_type": "stream",
     "text": [
      "16.603023529052734\n"
     ]
    }
   ],
   "source": [
    "print(testmodel(torch.randn(1,6,128,128)).item())"
   ]
  },
  {
   "cell_type": "code",
   "execution_count": 94,
   "metadata": {
    "collapsed": true
   },
   "outputs": [
    {
     "name": "stdout",
     "output_type": "stream",
     "text": [
      "tensor([[[0.3070, 0.3208, 0.2880,  ..., 0.2586, 0.2576, 0.2112],\n",
      "         [0.2403, 0.2422, 0.2529,  ..., 0.3340, 0.1981, 0.3173],\n",
      "         [0.2670, 0.2955, 0.2368,  ..., 0.1742, 0.2502, 0.1891],\n",
      "         ...,\n",
      "         [0.2313, 0.3396, 0.2102,  ..., 0.3373, 0.3221, 0.3142],\n",
      "         [0.3020, 0.3100, 0.2506,  ..., 0.2148, 0.2528, 0.2789],\n",
      "         [0.3004, 0.3027, 0.2945,  ..., 0.2582, 0.1730, 0.2092]],\n",
      "\n",
      "        [[0.3820, 0.2245, 0.3134,  ..., 0.2771, 0.2507, 0.4294],\n",
      "         [0.2603, 0.3264, 0.2909,  ..., 0.3558, 0.1570, 0.2822],\n",
      "         [0.2638, 0.3129, 0.1855,  ..., 0.3534, 0.2711, 0.3188],\n",
      "         ...,\n",
      "         [0.2978, 0.2240, 0.3443,  ..., 0.2672, 0.2335, 0.2886],\n",
      "         [0.2195, 0.2122, 0.2089,  ..., 0.2566, 0.2508, 0.3518],\n",
      "         [0.2598, 0.2758, 0.1932,  ..., 0.2854, 0.2830, 0.2117]],\n",
      "\n",
      "        [[0.3398, 0.2599, 0.2605,  ..., 0.3129, 0.1497, 0.3473],\n",
      "         [0.2609, 0.3250, 0.3552,  ..., 0.3051, 0.2842, 0.2480],\n",
      "         [0.2358, 0.2455, 0.2295,  ..., 0.2217, 0.0880, 0.2699],\n",
      "         ...,\n",
      "         [0.2919, 0.1779, 0.3489,  ..., 0.3127, 0.1845, 0.1510],\n",
      "         [0.2521, 0.2357, 0.2723,  ..., 0.2877, 0.2730, 0.2810],\n",
      "         [0.2255, 0.1296, 0.2408,  ..., 0.2041, 0.3135, 0.1996]],\n",
      "\n",
      "        [[0.1976, 0.3107, 0.2653,  ..., 0.2412, 0.2800, 0.2393],\n",
      "         [0.2417, 0.2296, 0.2980,  ..., 0.3040, 0.3282, 0.2725],\n",
      "         [0.2775, 0.2209, 0.2082,  ..., 0.2610, 0.3214, 0.2649],\n",
      "         ...,\n",
      "         [0.3132, 0.2375, 0.3345,  ..., 0.2621, 0.3311, 0.3824],\n",
      "         [0.2511, 0.1871, 0.1847,  ..., 0.3959, 0.3009, 0.2556],\n",
      "         [0.1803, 0.2832, 0.2388,  ..., 0.3385, 0.3358, 0.2445]],\n",
      "\n",
      "        [[0.3436, 0.2908, 0.2764,  ..., 0.1596, 0.2621, 0.2037],\n",
      "         [0.2092, 0.2853, 0.1536,  ..., 0.2906, 0.2008, 0.2089],\n",
      "         [0.2960, 0.3727, 0.2665,  ..., 0.2938, 0.3123, 0.2105],\n",
      "         ...,\n",
      "         [0.1888, 0.2412, 0.2067,  ..., 0.2656, 0.2891, 0.2383],\n",
      "         [0.1704, 0.1675, 0.2978,  ..., 0.2571, 0.2120, 0.1970],\n",
      "         [0.2411, 0.1858, 0.2730,  ..., 0.2823, 0.3208, 0.1832]],\n",
      "\n",
      "        [[0.2845, 0.2987, 0.1774,  ..., 0.3831, 0.2863, 0.1311],\n",
      "         [0.2778, 0.2792, 0.3491,  ..., 0.2479, 0.2202, 0.3477],\n",
      "         [0.2723, 0.3435, 0.3388,  ..., 0.2676, 0.2676, 0.3273],\n",
      "         ...,\n",
      "         [0.3083, 0.3628, 0.2967,  ..., 0.3610, 0.2841, 0.2044],\n",
      "         [0.2941, 0.2669, 0.2392,  ..., 0.2855, 0.3437, 0.3557],\n",
      "         [0.2323, 0.3998, 0.3117,  ..., 0.2350, 0.1920, 0.2743]]])\n"
     ]
    }
   ],
   "source": [
    "pt, _ = testdata[20]\n",
    "print(pt)"
   ]
  },
  {
   "cell_type": "code",
   "execution_count": 101,
   "metadata": {},
   "outputs": [
    {
     "data": {
      "text/plain": [
       "tensor([[1, 1, 1,  ..., 1, 1, 1],\n",
       "        [1, 1, 1,  ..., 1, 1, 1],\n",
       "        [1, 1, 1,  ..., 1, 1, 1],\n",
       "        ...,\n",
       "        [1, 1, 1,  ..., 1, 1, 1],\n",
       "        [1, 1, 1,  ..., 1, 1, 1],\n",
       "        [1, 1, 1,  ..., 1, 1, 1]], dtype=torch.uint8)"
      ]
     },
     "execution_count": 101,
     "metadata": {},
     "output_type": "execute_result"
    }
   ],
   "source": [
    "allpts[0][1,:,:] == allpts[1][0,:,:]"
   ]
  },
  {
   "cell_type": "code",
   "execution_count": 6,
   "metadata": {},
   "outputs": [
    {
     "data": {
      "text/plain": [
       "12"
      ]
     },
     "execution_count": 6,
     "metadata": {},
     "output_type": "execute_result"
    }
   ],
   "source": []
  },
  {
   "cell_type": "code",
   "execution_count": null,
   "metadata": {},
   "outputs": [],
   "source": []
  }
 ],
 "metadata": {
  "kernelspec": {
   "display_name": "Python 3",
   "language": "python",
   "name": "python3"
  },
  "language_info": {
   "codemirror_mode": {
    "name": "ipython",
    "version": 3
   },
   "file_extension": ".py",
   "mimetype": "text/x-python",
   "name": "python",
   "nbconvert_exporter": "python",
   "pygments_lexer": "ipython3",
   "version": "3.6.8"
  }
 },
 "nbformat": 4,
 "nbformat_minor": 2
}
